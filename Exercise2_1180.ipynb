{
  "cells": [
    {
      "cell_type": "code",
      "source": [
        "!apt-get update\n",
        "!apt-get install -y wget curl unzip"
      ],
      "metadata": {
        "colab": {
          "base_uri": "https://localhost:8080/"
        },
        "id": "44fBDTggwHWl",
        "outputId": "fb0d29d3-9d79-4377-da2a-4f930cadbd90"
      },
      "execution_count": 8,
      "outputs": [
        {
          "output_type": "stream",
          "name": "stdout",
          "text": [
            "\r0% [Working]\r            \rGet:1 http://security.ubuntu.com/ubuntu jammy-security InRelease [129 kB]\n",
            "Get:2 https://cloud.r-project.org/bin/linux/ubuntu jammy-cran40/ InRelease [3,626 B]\n",
            "Hit:3 https://developer.download.nvidia.com/compute/cuda/repos/ubuntu2204/x86_64  InRelease\n",
            "Hit:4 http://archive.ubuntu.com/ubuntu jammy InRelease\n",
            "Get:5 http://archive.ubuntu.com/ubuntu jammy-updates InRelease [128 kB]\n",
            "Get:6 https://r2u.stat.illinois.edu/ubuntu jammy InRelease [6,555 B]\n",
            "Hit:7 https://ppa.launchpadcontent.net/deadsnakes/ppa/ubuntu jammy InRelease\n",
            "Get:8 http://security.ubuntu.com/ubuntu jammy-security/main amd64 Packages [2,517 kB]\n",
            "Hit:9 https://ppa.launchpadcontent.net/graphics-drivers/ppa/ubuntu jammy InRelease\n",
            "Hit:10 https://ppa.launchpadcontent.net/ubuntugis/ppa/ubuntu jammy InRelease\n",
            "Get:11 http://security.ubuntu.com/ubuntu jammy-security/restricted amd64 Packages [3,448 kB]\n",
            "Get:12 http://archive.ubuntu.com/ubuntu jammy-backports InRelease [127 kB]\n",
            "Get:13 http://security.ubuntu.com/ubuntu jammy-security/universe amd64 Packages [1,226 kB]\n",
            "Get:14 https://r2u.stat.illinois.edu/ubuntu jammy/main amd64 Packages [2,631 kB]\n",
            "Get:15 https://r2u.stat.illinois.edu/ubuntu jammy/main all Packages [8,563 kB]\n",
            "Get:16 http://archive.ubuntu.com/ubuntu jammy-updates/main amd64 Packages [2,840 kB]\n",
            "Get:17 http://archive.ubuntu.com/ubuntu jammy-updates/universe amd64 Packages [1,517 kB]\n",
            "Get:18 http://archive.ubuntu.com/ubuntu jammy-updates/restricted amd64 Packages [3,633 kB]\n",
            "Get:19 http://archive.ubuntu.com/ubuntu jammy-backports/universe amd64 Packages [33.8 kB]\n",
            "Get:20 http://archive.ubuntu.com/ubuntu jammy-backports/main amd64 Packages [81.4 kB]\n",
            "Fetched 26.9 MB in 3s (9,271 kB/s)\n",
            "Reading package lists... Done\n",
            "W: Skipping acquire of configured file 'main/source/Sources' as repository 'https://r2u.stat.illinois.edu/ubuntu jammy InRelease' does not seem to provide it (sources.list entry misspelt?)\n",
            "Reading package lists... Done\n",
            "Building dependency tree... Done\n",
            "Reading state information... Done\n",
            "curl is already the newest version (7.81.0-1ubuntu1.20).\n",
            "unzip is already the newest version (6.0-26ubuntu3.2).\n",
            "wget is already the newest version (1.21.2-2ubuntu1.1).\n",
            "0 upgraded, 0 newly installed, 0 to remove and 50 not upgraded.\n"
          ]
        }
      ]
    },
    {
      "cell_type": "code",
      "source": [
        "!wget https://dl.google.com/linux/direct/google-chrome-stable_current_amd64.deb\n",
        "!dpkg -i google-chrome-stable_current_amd64.deb\n",
        "!apt-get install -f"
      ],
      "metadata": {
        "colab": {
          "base_uri": "https://localhost:8080/"
        },
        "id": "QHFX7xNkwNMj",
        "outputId": "bf4728a3-a457-44f0-c856-ea15827f4cb2"
      },
      "execution_count": 9,
      "outputs": [
        {
          "output_type": "stream",
          "name": "stdout",
          "text": [
            "--2024-12-30 08:48:47--  https://dl.google.com/linux/direct/google-chrome-stable_current_amd64.deb\n",
            "Resolving dl.google.com (dl.google.com)... 74.125.196.190, 74.125.196.93, 74.125.196.136, ...\n",
            "Connecting to dl.google.com (dl.google.com)|74.125.196.190|:443... connected.\n",
            "HTTP request sent, awaiting response... 200 OK\n",
            "Length: 112770956 (108M) [application/x-debian-package]\n",
            "Saving to: ‘google-chrome-stable_current_amd64.deb’\n",
            "\n",
            "google-chrome-stabl 100%[===================>] 107.55M   328MB/s    in 0.3s    \n",
            "\n",
            "2024-12-30 08:48:47 (328 MB/s) - ‘google-chrome-stable_current_amd64.deb’ saved [112770956/112770956]\n",
            "\n",
            "Selecting previously unselected package google-chrome-stable.\n",
            "(Reading database ... 123634 files and directories currently installed.)\n",
            "Preparing to unpack google-chrome-stable_current_amd64.deb ...\n",
            "Unpacking google-chrome-stable (131.0.6778.204-1) ...\n",
            "\u001b[1mdpkg:\u001b[0m dependency problems prevent configuration of google-chrome-stable:\n",
            " google-chrome-stable depends on libvulkan1; however:\n",
            "  Package libvulkan1 is not installed.\n",
            "\n",
            "\u001b[1mdpkg:\u001b[0m error processing package google-chrome-stable (--install):\n",
            " dependency problems - leaving unconfigured\n",
            "Processing triggers for man-db (2.10.2-1) ...\n",
            "Errors were encountered while processing:\n",
            " google-chrome-stable\n",
            "Reading package lists... Done\n",
            "Building dependency tree... Done\n",
            "Reading state information... Done\n",
            "Correcting dependencies... Done\n",
            "The following additional packages will be installed:\n",
            "  libvulkan1 mesa-vulkan-drivers\n",
            "The following NEW packages will be installed:\n",
            "  libvulkan1 mesa-vulkan-drivers\n",
            "0 upgraded, 2 newly installed, 0 to remove and 50 not upgraded.\n",
            "1 not fully installed or removed.\n",
            "Need to get 10.9 MB of archives.\n",
            "After this operation, 51.3 MB of additional disk space will be used.\n",
            "Get:1 http://archive.ubuntu.com/ubuntu jammy/main amd64 libvulkan1 amd64 1.3.204.1-2 [128 kB]\n",
            "Get:2 http://archive.ubuntu.com/ubuntu jammy-updates/main amd64 mesa-vulkan-drivers amd64 23.2.1-1ubuntu3.1~22.04.3 [10.7 MB]\n",
            "Fetched 10.9 MB in 1s (7,984 kB/s)\n",
            "Selecting previously unselected package libvulkan1:amd64.\n",
            "(Reading database ... 123751 files and directories currently installed.)\n",
            "Preparing to unpack .../libvulkan1_1.3.204.1-2_amd64.deb ...\n",
            "Unpacking libvulkan1:amd64 (1.3.204.1-2) ...\n",
            "Selecting previously unselected package mesa-vulkan-drivers:amd64.\n",
            "Preparing to unpack .../mesa-vulkan-drivers_23.2.1-1ubuntu3.1~22.04.3_amd64.deb ...\n",
            "Unpacking mesa-vulkan-drivers:amd64 (23.2.1-1ubuntu3.1~22.04.3) ...\n",
            "Setting up libvulkan1:amd64 (1.3.204.1-2) ...\n",
            "Setting up mesa-vulkan-drivers:amd64 (23.2.1-1ubuntu3.1~22.04.3) ...\n",
            "Setting up google-chrome-stable (131.0.6778.204-1) ...\n",
            "update-alternatives: using /usr/bin/google-chrome-stable to provide /usr/bin/x-www-browser (x-www-browser) in auto mode\n",
            "update-alternatives: using /usr/bin/google-chrome-stable to provide /usr/bin/gnome-www-browser (gnome-www-browser) in auto mode\n",
            "update-alternatives: using /usr/bin/google-chrome-stable to provide /usr/bin/google-chrome (google-chrome) in auto mode\n",
            "Processing triggers for libc-bin (2.35-0ubuntu3.4) ...\n",
            "/sbin/ldconfig.real: /usr/local/lib/libtcm_debug.so.1 is not a symbolic link\n",
            "\n",
            "/sbin/ldconfig.real: /usr/local/lib/libur_loader.so.0 is not a symbolic link\n",
            "\n",
            "/sbin/ldconfig.real: /usr/local/lib/libhwloc.so.15 is not a symbolic link\n",
            "\n",
            "/sbin/ldconfig.real: /usr/local/lib/libumf.so.0 is not a symbolic link\n",
            "\n",
            "/sbin/ldconfig.real: /usr/local/lib/libtbbmalloc_proxy.so.2 is not a symbolic link\n",
            "\n",
            "/sbin/ldconfig.real: /usr/local/lib/libtbbbind_2_0.so.3 is not a symbolic link\n",
            "\n",
            "/sbin/ldconfig.real: /usr/local/lib/libtbbbind.so.3 is not a symbolic link\n",
            "\n",
            "/sbin/ldconfig.real: /usr/local/lib/libtbbmalloc.so.2 is not a symbolic link\n",
            "\n",
            "/sbin/ldconfig.real: /usr/local/lib/libtbb.so.12 is not a symbolic link\n",
            "\n",
            "/sbin/ldconfig.real: /usr/local/lib/libtbbbind_2_5.so.3 is not a symbolic link\n",
            "\n",
            "/sbin/ldconfig.real: /usr/local/lib/libtcm.so.1 is not a symbolic link\n",
            "\n",
            "/sbin/ldconfig.real: /usr/local/lib/libur_adapter_level_zero.so.0 is not a symbolic link\n",
            "\n",
            "/sbin/ldconfig.real: /usr/local/lib/libur_adapter_opencl.so.0 is not a symbolic link\n",
            "\n"
          ]
        }
      ]
    },
    {
      "cell_type": "code",
      "source": [
        "!google-chrome-stable --version"
      ],
      "metadata": {
        "colab": {
          "base_uri": "https://localhost:8080/"
        },
        "id": "PjoQoBI6wQhB",
        "outputId": "e01ae6ee-8bae-4c5b-eb43-85539c59179e"
      },
      "execution_count": 10,
      "outputs": [
        {
          "output_type": "stream",
          "name": "stdout",
          "text": [
            "Google Chrome 131.0.6778.204 \n"
          ]
        }
      ]
    },
    {
      "cell_type": "code",
      "source": [
        "import subprocess\n",
        "\n",
        "# Run command to get Chrome version\n",
        "chrome_version_output = subprocess.check_output([\"google-chrome-stable\", \"--version\"]).decode(\"utf-8\")\n",
        "# Extract version using regex\n",
        "chrome_version = chrome_version_output.split()[2].split('.')[0]\n",
        "\n",
        "print(f\"Extracted Chrome Version: {chrome_version}\")"
      ],
      "metadata": {
        "colab": {
          "base_uri": "https://localhost:8080/"
        },
        "id": "sAgC3GAJwXsq",
        "outputId": "a6d16be2-bbeb-44f6-cb5f-9336d3bb87aa"
      },
      "execution_count": 11,
      "outputs": [
        {
          "output_type": "stream",
          "name": "stdout",
          "text": [
            "Extracted Chrome Version: 131\n"
          ]
        }
      ]
    },
    {
      "cell_type": "code",
      "source": [
        "!wget https://storage.googleapis.com/chrome-for-testing-public/131.0.6778.204/linux64/chromedriver-linux64.zip"
      ],
      "metadata": {
        "colab": {
          "base_uri": "https://localhost:8080/"
        },
        "id": "LCa5S_quwbR1",
        "outputId": "9489f757-6229-4bf7-b8ac-c63df6e80091"
      },
      "execution_count": 12,
      "outputs": [
        {
          "output_type": "stream",
          "name": "stdout",
          "text": [
            "--2024-12-30 08:49:44--  https://storage.googleapis.com/chrome-for-testing-public/131.0.6778.204/linux64/chromedriver-linux64.zip\n",
            "Resolving storage.googleapis.com (storage.googleapis.com)... 173.194.210.207, 173.194.215.207, 173.194.216.207, ...\n",
            "Connecting to storage.googleapis.com (storage.googleapis.com)|173.194.210.207|:443... connected.\n",
            "HTTP request sent, awaiting response... 200 OK\n",
            "Length: 9945236 (9.5M) [application/zip]\n",
            "Saving to: ‘chromedriver-linux64.zip’\n",
            "\n",
            "\rchromedriver-linux6   0%[                    ]       0  --.-KB/s               \rchromedriver-linux6 100%[===================>]   9.48M  --.-KB/s    in 0.05s   \n",
            "\n",
            "2024-12-30 08:49:44 (183 MB/s) - ‘chromedriver-linux64.zip’ saved [9945236/9945236]\n",
            "\n"
          ]
        }
      ]
    },
    {
      "cell_type": "code",
      "source": [
        "!unzip chromedriver-linux64.zip"
      ],
      "metadata": {
        "colab": {
          "base_uri": "https://localhost:8080/"
        },
        "id": "Lsf4zpHEwepu",
        "outputId": "fc0e2e4c-e387-428e-f7dc-2a30d78735ac"
      },
      "execution_count": 13,
      "outputs": [
        {
          "output_type": "stream",
          "name": "stdout",
          "text": [
            "Archive:  chromedriver-linux64.zip\n",
            "  inflating: chromedriver-linux64/LICENSE.chromedriver  \n",
            "  inflating: chromedriver-linux64/THIRD_PARTY_NOTICES.chromedriver  \n",
            "  inflating: chromedriver-linux64/chromedriver  \n"
          ]
        }
      ]
    },
    {
      "cell_type": "code",
      "source": [
        "!chmod +x /content/chromedriver-linux64/chromedriver"
      ],
      "metadata": {
        "id": "ZR2R5TzgwhuV"
      },
      "execution_count": 14,
      "outputs": []
    },
    {
      "cell_type": "code",
      "source": [
        "!pip install selenium"
      ],
      "metadata": {
        "colab": {
          "base_uri": "https://localhost:8080/"
        },
        "id": "stAv90gpwk2D",
        "outputId": "b8e8200d-45e5-4529-d9c3-b7c0bf0b6a1d"
      },
      "execution_count": 15,
      "outputs": [
        {
          "output_type": "stream",
          "name": "stdout",
          "text": [
            "Requirement already satisfied: selenium in /usr/local/lib/python3.10/dist-packages (4.27.1)\n",
            "Requirement already satisfied: urllib3<3,>=1.26 in /usr/local/lib/python3.10/dist-packages (from urllib3[socks]<3,>=1.26->selenium) (2.2.3)\n",
            "Requirement already satisfied: trio~=0.17 in /usr/local/lib/python3.10/dist-packages (from selenium) (0.28.0)\n",
            "Requirement already satisfied: trio-websocket~=0.9 in /usr/local/lib/python3.10/dist-packages (from selenium) (0.11.1)\n",
            "Requirement already satisfied: certifi>=2021.10.8 in /usr/local/lib/python3.10/dist-packages (from selenium) (2024.12.14)\n",
            "Requirement already satisfied: typing_extensions~=4.9 in /usr/local/lib/python3.10/dist-packages (from selenium) (4.12.2)\n",
            "Requirement already satisfied: websocket-client~=1.8 in /usr/local/lib/python3.10/dist-packages (from selenium) (1.8.0)\n",
            "Requirement already satisfied: attrs>=23.2.0 in /usr/local/lib/python3.10/dist-packages (from trio~=0.17->selenium) (24.3.0)\n",
            "Requirement already satisfied: sortedcontainers in /usr/local/lib/python3.10/dist-packages (from trio~=0.17->selenium) (2.4.0)\n",
            "Requirement already satisfied: idna in /usr/local/lib/python3.10/dist-packages (from trio~=0.17->selenium) (3.10)\n",
            "Requirement already satisfied: outcome in /usr/local/lib/python3.10/dist-packages (from trio~=0.17->selenium) (1.3.0.post0)\n",
            "Requirement already satisfied: sniffio>=1.3.0 in /usr/local/lib/python3.10/dist-packages (from trio~=0.17->selenium) (1.3.1)\n",
            "Requirement already satisfied: exceptiongroup in /usr/local/lib/python3.10/dist-packages (from trio~=0.17->selenium) (1.2.2)\n",
            "Requirement already satisfied: wsproto>=0.14 in /usr/local/lib/python3.10/dist-packages (from trio-websocket~=0.9->selenium) (1.2.0)\n",
            "Requirement already satisfied: pysocks!=1.5.7,<2.0,>=1.5.6 in /usr/local/lib/python3.10/dist-packages (from urllib3[socks]<3,>=1.26->selenium) (1.7.1)\n",
            "Requirement already satisfied: h11<1,>=0.9.0 in /usr/local/lib/python3.10/dist-packages (from wsproto>=0.14->trio-websocket~=0.9->selenium) (0.14.0)\n"
          ]
        }
      ]
    },
    {
      "cell_type": "code",
      "source": [
        "import os\n",
        "import time\n",
        "from selenium import webdriver\n",
        "from selenium.webdriver.chrome.service import Service\n",
        "from selenium.webdriver.chrome.options import Options\n",
        "from selenium.webdriver.common.by import By\n",
        "from selenium.webdriver.support.ui import WebDriverWait\n",
        "from selenium.webdriver.support import expected_conditions as EC\n",
        "\n",
        "# Set up Chrome options for headless mode (no GUI)\n",
        "chrome_options = Options()\n",
        "chrome_options.add_argument(\"--headless\")  # Run Chrome in headless mode (without UI)\n",
        "chrome_options.add_argument(\"--no-sandbox\")  # Disable sandboxing\n",
        "chrome_options.add_argument(\"--disable-dev-shm-usage\")  # Disable /dev/shm usage (avoids crashes)\n",
        "\n",
        "# Path to ChromeDriver (adjust this based on your system)\n",
        "chrome_driver_path = '/content/chromedriver-linux64/chromedriver'  # Update with the correct path\n",
        "if not os.path.exists(chrome_driver_path):\n",
        "    raise FileNotFoundError(f\"ChromeDriver not found at {chrome_driver_path}\")\n",
        "\n",
        "# Set up the Service object for ChromeDriver\n",
        "service = Service(chrome_driver_path)\n",
        "\n",
        "# Initialize the WebDriver with the Service object and options\n",
        "driver = webdriver.Chrome(service=service, options=chrome_options)\n",
        "\n",
        "# Ensure the file path is correct for the local HTML file (using file:// format)\n",
        "file_path = '/content/WEATHER.HTML'  # Ensure this is a valid file path\n",
        "if not os.path.exists(file_path):\n",
        "    raise FileNotFoundError(f\"HTML file not found at {file_path}\")\n",
        "\n",
        "driver.get(f\"file://{os.path.abspath(file_path)}\")  # Use the absolute path\n",
        "\n",
        "# Wait for the elements to be visible (adjust timeout as needed)\n",
        "wait = WebDriverWait(driver, 10)  # Wait up to 10 seconds\n",
        "\n",
        "try:\n",
        "    # Find input elements and ensure they are visible\n",
        "    a_input = wait.until(EC.presence_of_element_located((By.ID, \"a\")))\n",
        "    b_input = wait.until(EC.presence_of_element_located((By.ID, \"b\")))\n",
        "    c_input = wait.until(EC.presence_of_element_located((By.ID, \"c\")))\n",
        "    t_input = wait.until(EC.presence_of_element_located((By.ID, \"t\")))\n",
        "\n",
        "    # Locate the calculate button\n",
        "    calculate_button = wait.until(EC.presence_of_element_located((By.XPATH, \"//button[@type='button']\")))\n",
        "\n",
        "    # Send test data\n",
        "    a_input.clear()\n",
        "    a_input.send_keys(\"1\")\n",
        "    b_input.clear()\n",
        "    b_input.send_keys(\"2\")\n",
        "    c_input.clear()\n",
        "    c_input.send_keys(\"3\")\n",
        "    t_input.clear()\n",
        "    t_input.send_keys(\"4\")\n",
        "\n",
        "    # Trigger the calculation\n",
        "    calculate_button.click()\n",
        "\n",
        "    # Wait for the output to be updated\n",
        "    output_element = wait.until(EC.presence_of_element_located((By.ID, \"output\")))\n",
        "\n",
        "    # Retrieve and print the result\n",
        "    output = output_element.text\n",
        "    print(\"Output:\", output)  # Example: Output: Temperature: 14.0°C\n",
        "\n",
        "except Exception as e:\n",
        "    print(\"Error:\", e)\n",
        "\n",
        "finally:\n",
        "    # Close the driver after testing\n",
        "    driver.quit()\n"
      ],
      "metadata": {
        "colab": {
          "base_uri": "https://localhost:8080/"
        },
        "id": "FhwkKld4w0Og",
        "outputId": "84aeaffc-26ef-42b6-840f-05b2c147c8a0"
      },
      "execution_count": 21,
      "outputs": [
        {
          "output_type": "stream",
          "name": "stdout",
          "text": [
            "Output: Temperature: 27°C\n"
          ]
        }
      ]
    },
    {
      "cell_type": "code",
      "source": [
        "import os\n",
        "import time\n",
        "from selenium import webdriver\n",
        "from selenium.webdriver.chrome.service import Service\n",
        "from selenium.webdriver.chrome.options import Options\n",
        "from selenium.webdriver.common.by import By\n",
        "from selenium.webdriver.support.ui import WebDriverWait\n",
        "from selenium.webdriver.support import expected_conditions as EC\n",
        "from IPython.display import Image, display  # For displaying images inline\n",
        "\n",
        "# Set up Chrome options for headless mode (no GUI)\n",
        "chrome_options = Options()\n",
        "chrome_options.add_argument(\"--headless\")\n",
        "chrome_options.add_argument(\"--no-sandbox\")\n",
        "chrome_options.add_argument(\"--disable-dev-shm-usage\")\n",
        "\n",
        "# Path to ChromeDriver (adjust based on your system)\n",
        "chrome_driver_path = '/content/chromedriver-linux64/chromedriver'\n",
        "if not os.path.exists(chrome_driver_path):\n",
        "    raise FileNotFoundError(f\"ChromeDriver not found at: {chrome_driver_path}\")\n",
        "\n",
        "# Set up the Service object for ChromeDriver\n",
        "service = Service(chrome_driver_path)\n",
        "\n",
        "# Initialize WebDriver with Service object and options\n",
        "driver = webdriver.Chrome(service=service, options=chrome_options)\n",
        "\n",
        "# Ensure the file path is correct for the local HTML file (using file:// format)\n",
        "file_path = '/content/final2.html'\n",
        "if not os.path.exists(file_path):\n",
        "    raise FileNotFoundError(f\"HTML file not found at: {file_path}\")\n",
        "\n",
        "try:\n",
        "    print(\"Navigating to the HTML file...\")\n",
        "    driver.get(f\"file://{os.path.abspath(file_path)}\")\n",
        "\n",
        "    # Wait for elements to load\n",
        "    wait = WebDriverWait(driver, 20)\n",
        "\n",
        "    print(\"Waiting for input fields to load...\")\n",
        "    # Locate all input fields\n",
        "    input_ids = [\"a1\", \"b1\", \"c1\", \"a2\", \"b2\", \"c2\", \"a3\", \"b3\", \"c3\"]\n",
        "    inputs = {key: wait.until(EC.presence_of_element_located((By.ID, key))) for key in input_ids}\n",
        "\n",
        "    # Locate the plot button\n",
        "    plot_button = wait.until(EC.presence_of_element_located((By.XPATH, \"//button[@onclick='plotGraph()']\")))\n",
        "\n",
        "    print(\"Filling input fields with values...\")\n",
        "    # Define test values for inputs\n",
        "    test_values = {\n",
        "        \"a1\": \"3\", \"b1\": \"9\", \"c1\": \"6\",\n",
        "        \"a2\": \"2\", \"b2\": \"10\", \"c2\": \"2\",\n",
        "        \"a3\": \"-1\", \"b3\": \"3\", \"c3\": \"-9\"\n",
        "    }\n",
        "\n",
        "    # Clear and set values in input fields\n",
        "    for key, value in test_values.items():\n",
        "        inputs[key].clear()\n",
        "        inputs[key].send_keys(value)\n",
        "\n",
        "    # Confirm values entered correctly\n",
        "    print(\"Input values confirmed:\")\n",
        "    for key in test_values:\n",
        "        print(f\"{key}: {inputs[key].get_attribute('value')}\")\n",
        "\n",
        "    print(\"Clicking the plot button...\")\n",
        "    # Trigger the plot action\n",
        "    plot_button.click()\n",
        "\n",
        "    print(\"Waiting for the chart to render...\")\n",
        "    chart_element = wait.until(EC.presence_of_element_located((By.ID, \"chart\")))\n",
        "\n",
        "    # Scroll to the chart to ensure it is in the viewport\n",
        "    driver.execute_script(\"arguments[0].scrollIntoView();\", chart_element)\n",
        "\n",
        "    # Wait a bit more to ensure the chart is fully rendered\n",
        "    time.sleep(2)\n",
        "\n",
        "    # Take a screenshot of the chart area\n",
        "    screenshot_path = \"/content/graph_screenshot.png\"\n",
        "    driver.save_screenshot(screenshot_path)\n",
        "    print(f\"Screenshot saved at: {screenshot_path}\")\n",
        "\n",
        "    # Display the screenshot inline\n",
        "    display(Image(filename=screenshot_path))\n",
        "\n",
        "    print(\"Test completed successfully.\")\n",
        "\n",
        "except Exception as e:\n",
        "    print(\"Error encountered:\")\n",
        "    import traceback\n",
        "    traceback.print_exc()\n",
        "\n",
        "finally:\n",
        "    print(\"Closing the driver...\")\n",
        "    driver.quit()\n"
      ],
      "metadata": {
        "colab": {
          "base_uri": "https://localhost:8080/",
          "height": 779
        },
        "id": "sgNZp3eOw8vG",
        "outputId": "e8ffcb62-735a-4524-d937-48c10aa08df8"
      },
      "execution_count": 25,
      "outputs": [
        {
          "output_type": "stream",
          "name": "stdout",
          "text": [
            "Navigating to the HTML file...\n",
            "Waiting for input fields to load...\n",
            "Filling input fields with values...\n",
            "Input values confirmed:\n",
            "a1: 3\n",
            "b1: 9\n",
            "c1: 6\n",
            "a2: 2\n",
            "b2: 10\n",
            "c2: 2\n",
            "a3: -1\n",
            "b3: 3\n",
            "c3: -9\n",
            "Clicking the plot button...\n",
            "Waiting for the chart to render...\n",
            "Screenshot saved at: /content/graph_screenshot.png\n"
          ]
        },
        {
          "output_type": "display_data",
          "data": {
            "image/png": "[encoded data removed]",
            "text/plain": [
              "<IPython.core.display.Image object>"
            ]
          },
          "metadata": {}
        },
        {
          "output_type": "stream",
          "name": "stdout",
          "text": [
            "Test completed successfully.\n",
            "Closing the driver...\n"
          ]
        }
      ]
    }
  ],
  "metadata": {
    "colab": {
      "provenance": []
    },
    "kernelspec": {
      "display_name": "Python 3",
      "name": "python3"
    },
    "language_info": {
      "name": "python"
    }
  },
  "nbformat": 4,
  "nbformat_minor": 0
}